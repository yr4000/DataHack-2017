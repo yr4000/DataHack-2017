{
  "nbformat": 4,
  "nbformat_minor": 0,
  "metadata": {
    "colab": {
      "name": "DataHack 2019 Armis project.ipynb",
      "version": "0.3.2",
      "provenance": [],
      "collapsed_sections": [],
      "include_colab_link": true
    },
    "kernelspec": {
      "name": "python3",
      "display_name": "Python 3"
    }
  },
  "cells": [
    {
      "cell_type": "markdown",
      "metadata": {
        "id": "view-in-github",
        "colab_type": "text"
      },
      "source": [
        "<a href=\"https://colab.research.google.com/github/yr4000/DataHack-2017/blob/master/DataHack_2019_Armis_project.ipynb\" target=\"_parent\"><img src=\"https://colab.research.google.com/assets/colab-badge.svg\" alt=\"Open In Colab\"/></a>"
      ]
    },
    {
      "cell_type": "markdown",
      "metadata": {
        "id": "_AsvNjEh1vIF",
        "colab_type": "text"
      },
      "source": [
        "# **DataHack 2019 Armis project**"
      ]
    },
    {
      "cell_type": "code",
      "metadata": {
        "id": "Q4YJGE3_DqYS",
        "colab_type": "code",
        "colab": {}
      },
      "source": [
        "import pandas as pd\n",
        "import numpy as np"
      ],
      "execution_count": 0,
      "outputs": []
    },
    {
      "cell_type": "code",
      "metadata": {
        "id": "d8OdmXvA4-2m",
        "colab_type": "code",
        "colab": {
          "base_uri": "https://localhost:8080/",
          "height": 327
        },
        "outputId": "aa11bb5e-cf68-44ab-8131-300749462bb9"
      },
      "source": [
        "!wget https://raw.githubusercontent.com/YG15/DataHack2019/master/src/functions/get_network_hierarchy.py\n",
        "\n",
        "from get_network_hierarchy import *"
      ],
      "execution_count": 4,
      "outputs": [
        {
          "output_type": "stream",
          "text": [
            "--2019-08-28 20:29:57--  https://raw.githubusercontent.com/YG15/DataHack2019/master/src/functions/get_network_hierarchy.py\n",
            "Resolving raw.githubusercontent.com (raw.githubusercontent.com)... 151.101.0.133, 151.101.64.133, 151.101.128.133, ...\n",
            "Connecting to raw.githubusercontent.com (raw.githubusercontent.com)|151.101.0.133|:443... connected.\n",
            "HTTP request sent, awaiting response... 200 OK\n",
            "Length: 1296 (1.3K) [text/plain]\n",
            "Saving to: ‘get_network_hierarchy.py.6’\n",
            "\n",
            "\r          get_netwo   0%[                    ]       0  --.-KB/s               \rget_network_hierarc 100%[===================>]   1.27K  --.-KB/s    in 0s      \n",
            "\n",
            "2019-08-28 20:29:57 (318 MB/s) - ‘get_network_hierarchy.py.6’ saved [1296/1296]\n",
            "\n"
          ],
          "name": "stdout"
        },
        {
          "output_type": "error",
          "ename": "SyntaxError",
          "evalue": "ignored",
          "traceback": [
            "\u001b[0;36m  File \u001b[0;32m\"/content/get_network_hierarchy.py\"\u001b[0;36m, line \u001b[0;32m5\u001b[0m\n\u001b[0;31m    def get_network_hierarchy(network_df)\u001b[0m\n\u001b[0m                                         ^\u001b[0m\n\u001b[0;31mSyntaxError\u001b[0m\u001b[0;31m:\u001b[0m invalid syntax\n"
          ]
        }
      ]
    },
    {
      "cell_type": "code",
      "metadata": {
        "id": "77RUT-GiDuCH",
        "colab_type": "code",
        "colab": {}
      },
      "source": [
        "url = 'https://raw.githubusercontent.com/YG15/DataHack2019/master/data/draft/network_draft.csv'\n",
        "df = pd.read_csv(url)\n",
        "df.head()"
      ],
      "execution_count": 0,
      "outputs": []
    },
    {
      "cell_type": "code",
      "metadata": {
        "id": "oPWcWQ2CUySq",
        "colab_type": "code",
        "colab": {}
      },
      "source": [
        "get_network_hierarchy(network_df).head()"
      ],
      "execution_count": 0,
      "outputs": []
    },
    {
      "cell_type": "code",
      "metadata": {
        "id": "3Xpk1Ob6UIws",
        "colab_type": "code",
        "colab": {}
      },
      "source": [
        "import pandas as pd\n",
        "import numpy as np\n",
        "\n",
        "def get_network_hierarchy(network_df):\n",
        "  \"\"\"\n",
        "  input: a table of network connection\n",
        "  output: the same table with additional columns representing the level of hierarchy in the net\n",
        "  IPORTANT: the function assumes there each device has it unique id regardless the network it is in, if there are duplicates ids, the function will results incorrect results\n",
        "            thus it is recommended to run the function on each network seperatly or to change the devices ids so they won't be any shared ids across networks\n",
        "  \"\"\"\n",
        "  # Correct columns values from float tp integers\n",
        "  network_df['service_device_id'] = network_df.service_device_id.apply(lambda x: int(x))\n",
        "  \n",
        "  output_devices = list(network_df.device_id.unique())\n",
        "  input_devices  = list(network_df.service_device_id.unique())\n",
        "  root_devices   = list(set(output_devices).difference(set(input_devices)))\n",
        "  \n",
        "  device_level = 0\n",
        "  network_df['network_hierarchy'] = np.nan\n",
        "  \n",
        "  while len(root_devices)>0:\n",
        "    network_df['network_hierarchy'] = [device_level+1 if device in root_devices else val for device, val in zip(network_df.device_id,network_df.network_hierarchy)]\n",
        "    root_devices = list(network_df.service_device_id[network_df.network_hierarchy==device_level+1])\n",
        "    device_level+=1\n",
        "  return(network_df)"
      ],
      "execution_count": 0,
      "outputs": []
    },
    {
      "cell_type": "code",
      "metadata": {
        "id": "NpIUmsj64HRn",
        "colab_type": "code",
        "colab": {}
      },
      "source": [
        ""
      ],
      "execution_count": 0,
      "outputs": []
    }
  ]
}